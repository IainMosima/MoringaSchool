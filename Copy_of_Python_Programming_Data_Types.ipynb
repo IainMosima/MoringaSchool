{
  "nbformat": 4,
  "nbformat_minor": 0,
  "metadata": {
    "colab": {
      "name": "Copy of Python Programming: Data Types",
      "provenance": [],
      "collapsed_sections": [
        "Fti179OmKM7c",
        "UxdDFPQKz3NS",
        "-BkSbASJUdKQ",
        "a_8-Y8pFUfZ4",
        "zH4fP7JMUqPG",
        "A5_RAp55UkF6",
        "s547kw_RlMAo",
        "lgNykfkVlPAq",
        "-HTYwkHal6e7",
        "KyVOjrcMr4wI",
        "eib75N_EnVqp",
        "1x6Hvs-jrru7"
      ],
      "toc_visible": true
    },
    "kernelspec": {
      "name": "python3",
      "display_name": "Python 3"
    }
  },
  "cells": [
    {
      "cell_type": "markdown",
      "metadata": {
        "id": "g4atfIoY1BjY"
      },
      "source": [
        "# Python Programming: Data Types"
      ]
    },
    {
      "cell_type": "markdown",
      "metadata": {
        "id": "Fti179OmKM7c"
      },
      "source": [
        "## 1.1 Introduction"
      ]
    },
    {
      "cell_type": "markdown",
      "metadata": {
        "id": "_Kl5unZ9KPIY"
      },
      "source": [
        "There are many different data types in Python. These data types can also be referred to as types of objects. We can start with the most common object types: strings, integers and floats. Anytime you write words (text) in Python, you're using character strings (strings for short). The most common numbers, on the other hand, are integers (e.g. -1, 0, 100) and floats, which represent real numbers (e.g. 3.14, -42.0)."
      ]
    },
    {
      "cell_type": "markdown",
      "metadata": {
        "id": "F8zU7otKNuU3"
      },
      "source": [
        "The following are examples of values with different data types;"
      ]
    },
    {
      "cell_type": "code",
      "metadata": {
        "id": "aLU0ZCM4KKMZ",
        "colab": {
          "base_uri": "https://localhost:8080/"
        },
        "outputId": "dc27448e-432f-4647-e821-1f647d21cade"
      },
      "source": [
        "# Example 1\n",
        "# Integer Data Type\n",
        "#\n",
        "55"
      ],
      "execution_count": null,
      "outputs": [
        {
          "output_type": "execute_result",
          "data": {
            "text/plain": [
              "55"
            ]
          },
          "metadata": {
            "tags": []
          },
          "execution_count": 1
        }
      ]
    },
    {
      "cell_type": "code",
      "metadata": {
        "id": "dm_ofqvwPQuP",
        "colab": {
          "base_uri": "https://localhost:8080/"
        },
        "outputId": "d8d2781c-56d4-4d6a-dd5a-92953ca8be68"
      },
      "source": [
        "# Example 2\n",
        "# Float Data Type\n",
        "#\n",
        "3.142"
      ],
      "execution_count": null,
      "outputs": [
        {
          "output_type": "execute_result",
          "data": {
            "text/plain": [
              "3.142"
            ]
          },
          "metadata": {
            "tags": []
          },
          "execution_count": 2
        }
      ]
    },
    {
      "cell_type": "code",
      "metadata": {
        "id": "Vjla31TDQg4R",
        "colab": {
          "base_uri": "https://localhost:8080/",
          "height": 35
        },
        "outputId": "85c832ce-b02a-46e4-ba94-7969866c8ebb"
      },
      "source": [
        "# Example 3\n",
        "# String Data Type\n",
        "#\n",
        "\"Moringa Data Science\" "
      ],
      "execution_count": null,
      "outputs": [
        {
          "output_type": "execute_result",
          "data": {
            "application/vnd.google.colaboratory.intrinsic+json": {
              "type": "string"
            },
            "text/plain": [
              "'Moringa Data Science'"
            ]
          },
          "metadata": {
            "tags": []
          },
          "execution_count": 3
        }
      ]
    },
    {
      "cell_type": "markdown",
      "metadata": {
        "id": "uqmC6vfr24_f"
      },
      "source": [
        "### <font color=\"green\">1.1 Challenges </font>\n"
      ]
    },
    {
      "cell_type": "code",
      "metadata": {
        "id": "IpyXzkyYRnJ1",
        "colab": {
          "base_uri": "https://localhost:8080/"
        },
        "outputId": "ffc98048-792c-4248-a4b7-93cd0cad6f6b"
      },
      "source": [
        "# Challenge 1\n",
        "# Write a value with an Integer data type \n",
        "# \n",
        "77"
      ],
      "execution_count": null,
      "outputs": [
        {
          "output_type": "execute_result",
          "data": {
            "text/plain": [
              "77"
            ]
          },
          "metadata": {
            "tags": []
          },
          "execution_count": 4
        }
      ]
    },
    {
      "cell_type": "code",
      "metadata": {
        "id": "fTkeiMm6Rrhc",
        "colab": {
          "base_uri": "https://localhost:8080/"
        },
        "outputId": "6c20ebb4-537b-436a-bec4-2040716712b6"
      },
      "source": [
        "# Challenge 2 \n",
        "# Write any value with a Float Data Type \n",
        "# \n",
        "5.78"
      ],
      "execution_count": null,
      "outputs": [
        {
          "output_type": "execute_result",
          "data": {
            "text/plain": [
              "5.78"
            ]
          },
          "metadata": {
            "tags": []
          },
          "execution_count": 5
        }
      ]
    },
    {
      "cell_type": "code",
      "metadata": {
        "id": "-yxfZtWqRuoA",
        "colab": {
          "base_uri": "https://localhost:8080/",
          "height": 35
        },
        "outputId": "c58c0997-e09a-4091-c543-ff3a294dfbc8"
      },
      "source": [
        "# Challenge 3\n",
        "# Write any value with a String Data Type \n",
        "# \n",
        "\"Iain Mosima\""
      ],
      "execution_count": null,
      "outputs": [
        {
          "output_type": "execute_result",
          "data": {
            "application/vnd.google.colaboratory.intrinsic+json": {
              "type": "string"
            },
            "text/plain": [
              "'Iain Mosima'"
            ]
          },
          "metadata": {
            "tags": []
          },
          "execution_count": 7
        }
      ]
    },
    {
      "cell_type": "markdown",
      "metadata": {
        "id": "UxdDFPQKz3NS"
      },
      "source": [
        "## 1.2 Finding Out Types"
      ]
    },
    {
      "cell_type": "markdown",
      "metadata": {
        "id": "sgBUpOEqRe8d"
      },
      "source": [
        "We can get Python to tell us the type of an expression by using the built-in type() function. We'll notice that Python refers to integers as int, floats as float, and character strings as str."
      ]
    },
    {
      "cell_type": "code",
      "metadata": {
        "id": "GQZq_V9NS09i",
        "colab": {
          "base_uri": "https://localhost:8080/"
        },
        "outputId": "e00fbe69-b21f-4346-94cb-ecda054a8b7b"
      },
      "source": [
        "# Example 1\n",
        "# Finding out the type of 55\n",
        "#\n",
        "type(55)"
      ],
      "execution_count": null,
      "outputs": [
        {
          "output_type": "execute_result",
          "data": {
            "text/plain": [
              "int"
            ]
          },
          "metadata": {
            "tags": []
          },
          "execution_count": 8
        }
      ]
    },
    {
      "cell_type": "code",
      "metadata": {
        "id": "mKoaAXlNS8pt",
        "colab": {
          "base_uri": "https://localhost:8080/"
        },
        "outputId": "8e90818b-bc8a-4e4d-989f-468e7afdf64e"
      },
      "source": [
        "# Example 2\n",
        "# Finding out the type of 3.142\n",
        "#\n",
        "type(3.142)"
      ],
      "execution_count": null,
      "outputs": [
        {
          "output_type": "execute_result",
          "data": {
            "text/plain": [
              "float"
            ]
          },
          "metadata": {
            "tags": []
          },
          "execution_count": 9
        }
      ]
    },
    {
      "cell_type": "code",
      "metadata": {
        "id": "55FxpuwtS8So",
        "colab": {
          "base_uri": "https://localhost:8080/"
        },
        "outputId": "ed0baecb-8890-4203-cc54-a69593c89867"
      },
      "source": [
        "# Example 3\n",
        "# Finding out the type of \"Moringa Data Science\"\n",
        "#\n",
        "type(\"Moringa Data Science\")"
      ],
      "execution_count": null,
      "outputs": [
        {
          "output_type": "execute_result",
          "data": {
            "text/plain": [
              "str"
            ]
          },
          "metadata": {
            "tags": []
          },
          "execution_count": 10
        }
      ]
    },
    {
      "cell_type": "markdown",
      "metadata": {
        "id": "gqLkQCti2_as"
      },
      "source": [
        "### <font color=\"green\">1.2 Challenges</font>"
      ]
    },
    {
      "cell_type": "code",
      "metadata": {
        "id": "9aeJPHk5RJW2",
        "colab": {
          "base_uri": "https://localhost:8080/"
        },
        "outputId": "86d5ecc3-1e8a-49ae-c4ab-6473275e619a"
      },
      "source": [
        "# Challenge 4 \n",
        "# Now lets find out the type of our value in Challenge #1\n",
        "#\n",
        "type(77)"
      ],
      "execution_count": null,
      "outputs": [
        {
          "output_type": "execute_result",
          "data": {
            "text/plain": [
              "int"
            ]
          },
          "metadata": {
            "tags": []
          },
          "execution_count": 11
        }
      ]
    },
    {
      "cell_type": "code",
      "metadata": {
        "id": "xpxRzyfHT_VC",
        "colab": {
          "base_uri": "https://localhost:8080/"
        },
        "outputId": "4e03b0d6-fcdd-4fda-95b9-16770059fcc3"
      },
      "source": [
        "# Challenge 5\n",
        "# What about the type of our value in Challenge #2\n",
        "# \n",
        "type(5.78)"
      ],
      "execution_count": null,
      "outputs": [
        {
          "output_type": "execute_result",
          "data": {
            "text/plain": [
              "float"
            ]
          },
          "metadata": {
            "tags": []
          },
          "execution_count": 12
        }
      ]
    },
    {
      "cell_type": "code",
      "metadata": {
        "id": "JSTdIHXdUErB",
        "colab": {
          "base_uri": "https://localhost:8080/"
        },
        "outputId": "b6e751b2-67b0-40f9-dc57-11025ae727ca"
      },
      "source": [
        "# Challenge 6\n",
        "# What about the type of our value in Challenge #3\n",
        "#\n",
        "type(\"Iain Mosima\")"
      ],
      "execution_count": null,
      "outputs": [
        {
          "output_type": "execute_result",
          "data": {
            "text/plain": [
              "str"
            ]
          },
          "metadata": {
            "tags": []
          },
          "execution_count": 13
        }
      ]
    },
    {
      "cell_type": "code",
      "metadata": {
        "id": "3A6nP_-XpcTA",
        "colab": {
          "base_uri": "https://localhost:8080/"
        },
        "outputId": "86b81823-a25a-4c4c-e811-5a824912d17d"
      },
      "source": [
        "# Challenge 7 \n",
        "# What is the data type of the result of: 16 / 4?\n",
        "#\n",
        "type(16/7)"
      ],
      "execution_count": null,
      "outputs": [
        {
          "output_type": "execute_result",
          "data": {
            "text/plain": [
              "float"
            ]
          },
          "metadata": {
            "tags": []
          },
          "execution_count": 14
        }
      ]
    },
    {
      "cell_type": "code",
      "metadata": {
        "id": "_MC1ALIKpnyA",
        "colab": {
          "base_uri": "https://localhost:8080/"
        },
        "outputId": "daf4e67d-a1f7-44ad-c8bd-86db78802f53"
      },
      "source": [
        "# Challenge 8 \n",
        "# What is the type of the result of: 6 // 2? (Note the double slash //.)\n",
        "#\n",
        "type(6//2)"
      ],
      "execution_count": null,
      "outputs": [
        {
          "output_type": "execute_result",
          "data": {
            "text/plain": [
              "int"
            ]
          },
          "metadata": {
            "tags": []
          },
          "execution_count": 17
        }
      ]
    },
    {
      "cell_type": "code",
      "metadata": {
        "id": "dDF33m3swR-Z",
        "colab": {
          "base_uri": "https://localhost:8080/"
        },
        "outputId": "9b2d78c2-e7a6-4a29-e3d0-39c5a696e06c"
      },
      "source": [
        "# Challenge 9\n",
        "# What do you think is the output of type(a)? Run this cell and check\n",
        "# \n",
        "a = \"Learning Data Science is Easy\" \n",
        "a = 3 \n",
        "type(a)"
      ],
      "execution_count": null,
      "outputs": [
        {
          "output_type": "execute_result",
          "data": {
            "text/plain": [
              "int"
            ]
          },
          "metadata": {
            "tags": []
          },
          "execution_count": 20
        }
      ]
    },
    {
      "cell_type": "code",
      "metadata": {
        "id": "2GaZ0Eggw7Iu",
        "colab": {
          "base_uri": "https://localhost:8080/"
        },
        "outputId": "a181ef90-f2b6-4153-9789-c8b0cee6a3a3"
      },
      "source": [
        "# Challenge 10\n",
        "# What do you think is the output of this cell? \n",
        "# Think about it then run it.\n",
        "#\n",
        "type(3.2) == float "
      ],
      "execution_count": null,
      "outputs": [
        {
          "output_type": "execute_result",
          "data": {
            "text/plain": [
              "True"
            ]
          },
          "metadata": {
            "tags": []
          },
          "execution_count": 21
        }
      ]
    },
    {
      "cell_type": "markdown",
      "metadata": {
        "id": "-BkSbASJUdKQ"
      },
      "source": [
        "## 1.3  Integers"
      ]
    },
    {
      "cell_type": "markdown",
      "metadata": {
        "id": "JyxHhUBWUrbg"
      },
      "source": [
        " Integers can be negative or positive numbers:"
      ]
    },
    {
      "cell_type": "code",
      "metadata": {
        "id": "BMEZZkF-Gv4s",
        "colab": {
          "base_uri": "https://localhost:8080/"
        },
        "outputId": "4c915392-6a18-4159-e9bd-46a414e26470"
      },
      "source": [
        "# Example 1\n",
        "# Again, we can verify whether this is the case by using the type() function\n",
        "#\n",
        "type(-300)"
      ],
      "execution_count": null,
      "outputs": [
        {
          "output_type": "execute_result",
          "data": {
            "text/plain": [
              "int"
            ]
          },
          "metadata": {
            "tags": []
          },
          "execution_count": 22
        }
      ]
    },
    {
      "cell_type": "markdown",
      "metadata": {
        "id": "Z6xx7moLqa2B"
      },
      "source": [
        "### <font color = \"green\">1.3 Challenges</font>"
      ]
    },
    {
      "cell_type": "code",
      "metadata": {
        "id": "dcOMS1Ywn2MG",
        "colab": {
          "base_uri": "https://localhost:8080/"
        },
        "outputId": "4b5055ff-ead6-4bdb-d18c-ff8399eba79b"
      },
      "source": [
        "# Challenge 1\n",
        "# What happens when we verify a positive number i.e 43\n",
        "#\n",
        "type(43)"
      ],
      "execution_count": null,
      "outputs": [
        {
          "output_type": "execute_result",
          "data": {
            "text/plain": [
              "True"
            ]
          },
          "metadata": {
            "tags": []
          },
          "execution_count": 26
        }
      ]
    },
    {
      "cell_type": "code",
      "metadata": {
        "id": "H0Ws1Ez1HqoT",
        "colab": {
          "base_uri": "https://localhost:8080/"
        },
        "outputId": "7a85203b-28eb-47e1-dd6b-eafd8416e51e"
      },
      "source": [
        "# Challenge 2\n",
        "# Let's verify zero below \n",
        "# \n",
        "type(0)"
      ],
      "execution_count": null,
      "outputs": [
        {
          "output_type": "execute_result",
          "data": {
            "text/plain": [
              "int"
            ]
          },
          "metadata": {
            "tags": []
          },
          "execution_count": 28
        }
      ]
    },
    {
      "cell_type": "markdown",
      "metadata": {
        "id": "a_8-Y8pFUfZ4"
      },
      "source": [
        "## 1.4 Floats"
      ]
    },
    {
      "cell_type": "markdown",
      "metadata": {
        "id": "KK5QqqUFIorK"
      },
      "source": [
        "Floats represent real numbers; they also include \"numbers with decimals\". We can now test some examples with the type() function"
      ]
    },
    {
      "cell_type": "code",
      "metadata": {
        "id": "qLrhOz6eIpZ7",
        "colab": {
          "base_uri": "https://localhost:8080/"
        },
        "outputId": "ac439648-68f1-4598-eb14-229e0e20f4d2"
      },
      "source": [
        "# Example 1\n",
        "# Let's verify 1.0\n",
        "# \n",
        "type(1.0)"
      ],
      "execution_count": null,
      "outputs": [
        {
          "output_type": "execute_result",
          "data": {
            "text/plain": [
              "float"
            ]
          },
          "metadata": {
            "tags": []
          },
          "execution_count": 29
        }
      ]
    },
    {
      "cell_type": "markdown",
      "metadata": {
        "id": "Uc1Dx2gDqlQb"
      },
      "source": [
        "###<font color=\"green\"> 1.4 Challenges</font>"
      ]
    },
    {
      "cell_type": "code",
      "metadata": {
        "id": "AkXuR5UXoa4u",
        "colab": {
          "base_uri": "https://localhost:8080/"
        },
        "outputId": "4f689e8f-ca65-4298-ea41-f5d0a6422180"
      },
      "source": [
        "# Challenge 1 \n",
        "# Let's now verify 0.7\n",
        "#\n",
        "type(0.7)"
      ],
      "execution_count": null,
      "outputs": [
        {
          "output_type": "execute_result",
          "data": {
            "text/plain": [
              "float"
            ]
          },
          "metadata": {
            "tags": []
          },
          "execution_count": 30
        }
      ]
    },
    {
      "cell_type": "code",
      "metadata": {
        "id": "W-dT0-3WWx7z",
        "colab": {
          "base_uri": "https://localhost:8080/"
        },
        "outputId": "088373ea-0d5d-47d4-a5ac-281d36f84e1f"
      },
      "source": [
        "# Challenge 2\n",
        "# Verifying the type of 0.53\n",
        "# \n",
        "type(0.53)"
      ],
      "execution_count": null,
      "outputs": [
        {
          "output_type": "execute_result",
          "data": {
            "text/plain": [
              "float"
            ]
          },
          "metadata": {
            "tags": []
          },
          "execution_count": 31
        }
      ]
    },
    {
      "cell_type": "markdown",
      "metadata": {
        "id": "zH4fP7JMUqPG"
      },
      "source": [
        "## 1.5 Boolean"
      ]
    },
    {
      "cell_type": "markdown",
      "metadata": {
        "id": "Bfvyjf_YmT-w"
      },
      "source": [
        "Boolean is another important type in Python. An object of type Boolean can take on one of two values: True or False:\n",
        "\n"
      ]
    },
    {
      "cell_type": "code",
      "metadata": {
        "id": "pLiD-enCmSyO",
        "colab": {
          "base_uri": "https://localhost:8080/"
        },
        "outputId": "1c75ca79-837a-4fe0-8d9d-b2cd8cc6ded5"
      },
      "source": [
        "# Example 1\n",
        "# Let's run this cell and see what happens\n",
        "#\n",
        "True"
      ],
      "execution_count": null,
      "outputs": [
        {
          "output_type": "execute_result",
          "data": {
            "text/plain": [
              "True"
            ]
          },
          "metadata": {
            "tags": []
          },
          "execution_count": 32
        }
      ]
    },
    {
      "cell_type": "code",
      "metadata": {
        "id": "irtYN0ZZmv5Z",
        "colab": {
          "base_uri": "https://localhost:8080/"
        },
        "outputId": "9c2482e9-e5ec-4a7d-b92a-79c4f99df35e"
      },
      "source": [
        "# Example 2\n",
        "# Let's also run this cell and see what happens\n",
        "#\n",
        "False"
      ],
      "execution_count": null,
      "outputs": [
        {
          "output_type": "execute_result",
          "data": {
            "text/plain": [
              "False"
            ]
          },
          "metadata": {
            "tags": []
          },
          "execution_count": 33
        }
      ]
    },
    {
      "cell_type": "markdown",
      "metadata": {
        "id": "u3G52jpj2veu"
      },
      "source": [
        "### <font color=\"green\">1.5 Challenges</font>"
      ]
    },
    {
      "cell_type": "code",
      "metadata": {
        "id": "graRe9NCmioG",
        "colab": {
          "base_uri": "https://localhost:8080/",
          "height": 195
        },
        "outputId": "5bccdb63-f711-4ec9-ef2f-009a0d218bfe"
      },
      "source": [
        "# Challenge 1 \n",
        "# What happens when we run 'true' in this cell\n",
        "#\n",
        "true"
      ],
      "execution_count": null,
      "outputs": [
        {
          "output_type": "error",
          "ename": "NameError",
          "evalue": "ignored",
          "traceback": [
            "\u001b[0;31m---------------------------------------------------------------------------\u001b[0m",
            "\u001b[0;31mNameError\u001b[0m                                 Traceback (most recent call last)",
            "\u001b[0;32m<ipython-input-34-9d7400af3943>\u001b[0m in \u001b[0;36m<module>\u001b[0;34m()\u001b[0m\n\u001b[1;32m      2\u001b[0m \u001b[0;31m# What happens when we run 'true' in this cell\u001b[0m\u001b[0;34m\u001b[0m\u001b[0;34m\u001b[0m\u001b[0;34m\u001b[0m\u001b[0m\n\u001b[1;32m      3\u001b[0m \u001b[0;31m#\u001b[0m\u001b[0;34m\u001b[0m\u001b[0;34m\u001b[0m\u001b[0;34m\u001b[0m\u001b[0m\n\u001b[0;32m----> 4\u001b[0;31m \u001b[0mtrue\u001b[0m\u001b[0;34m\u001b[0m\u001b[0;34m\u001b[0m\u001b[0m\n\u001b[0m",
            "\u001b[0;31mNameError\u001b[0m: name 'true' is not defined"
          ]
        }
      ]
    },
    {
      "cell_type": "code",
      "metadata": {
        "id": "MuyXiaUPmz9U",
        "colab": {
          "base_uri": "https://localhost:8080/",
          "height": 195
        },
        "outputId": "b97f0af0-f41a-485a-bc10-caf9dcf46266"
      },
      "source": [
        "# Challenge 2\n",
        "# What about what happens when we run 'false' in this cell\n",
        "#\n",
        "false"
      ],
      "execution_count": null,
      "outputs": [
        {
          "output_type": "error",
          "ename": "NameError",
          "evalue": "ignored",
          "traceback": [
            "\u001b[0;31m---------------------------------------------------------------------------\u001b[0m",
            "\u001b[0;31mNameError\u001b[0m                                 Traceback (most recent call last)",
            "\u001b[0;32m<ipython-input-37-2eb0f63eb5b5>\u001b[0m in \u001b[0;36m<module>\u001b[0;34m()\u001b[0m\n\u001b[1;32m      2\u001b[0m \u001b[0;31m# What about what happens when we run 'false' in this cell\u001b[0m\u001b[0;34m\u001b[0m\u001b[0;34m\u001b[0m\u001b[0;34m\u001b[0m\u001b[0m\n\u001b[1;32m      3\u001b[0m \u001b[0;31m#\u001b[0m\u001b[0;34m\u001b[0m\u001b[0;34m\u001b[0m\u001b[0;34m\u001b[0m\u001b[0m\n\u001b[0;32m----> 4\u001b[0;31m \u001b[0mfalse\u001b[0m\u001b[0;34m\u001b[0m\u001b[0;34m\u001b[0m\u001b[0m\n\u001b[0m",
            "\u001b[0;31mNameError\u001b[0m: name 'false' is not defined"
          ]
        }
      ]
    },
    {
      "cell_type": "code",
      "metadata": {
        "id": "10qmsXWgm5Hk",
        "colab": {
          "base_uri": "https://localhost:8080/"
        },
        "outputId": "a5113002-b10a-4a6d-a672-68461f6145b7"
      },
      "source": [
        "# Challenge 3\n",
        "# Let's also find out type of False in this cell\n",
        "#\n",
        "type(False)"
      ],
      "execution_count": null,
      "outputs": [
        {
          "output_type": "execute_result",
          "data": {
            "text/plain": [
              "bool"
            ]
          },
          "metadata": {
            "tags": []
          },
          "execution_count": 38
        }
      ]
    },
    {
      "cell_type": "markdown",
      "metadata": {
        "id": "A5_RAp55UkF6"
      },
      "source": [
        "## 1.6 Conversion of Types"
      ]
    },
    {
      "cell_type": "markdown",
      "metadata": {
        "id": "Ajd9s536Ul66"
      },
      "source": [
        "We can change the type of the object in Python; this is called typecasting. For example, we can convert an integer into a float (e.g. 2 to 2.0)."
      ]
    },
    {
      "cell_type": "code",
      "metadata": {
        "id": "yJCPR5BEXp3G",
        "colab": {
          "base_uri": "https://localhost:8080/"
        },
        "outputId": "a7128d60-3f23-4327-f1ff-49e28d72580d"
      },
      "source": [
        "# Example 1 \n",
        "# Let's first verify that this is an integer by running this cell. \n",
        "#\n",
        "type(2) "
      ],
      "execution_count": null,
      "outputs": [
        {
          "output_type": "execute_result",
          "data": {
            "text/plain": [
              "int"
            ]
          },
          "metadata": {
            "tags": []
          },
          "execution_count": 39
        }
      ]
    },
    {
      "cell_type": "markdown",
      "metadata": {
        "id": "s547kw_RlMAo"
      },
      "source": [
        "### 1.6a. Converting integers to floats\n"
      ]
    },
    {
      "cell_type": "code",
      "metadata": {
        "id": "4mP_uTVYkoKn",
        "colab": {
          "base_uri": "https://localhost:8080/"
        },
        "outputId": "27e14dfb-e0b7-4e3a-f94f-9f2e1dcfbbf4"
      },
      "source": [
        "# Example 1\n",
        "# Let's now convert integer 2 to a float and check its type\n",
        "#\n",
        "type(float(2)) "
      ],
      "execution_count": null,
      "outputs": [
        {
          "output_type": "execute_result",
          "data": {
            "text/plain": [
              "float"
            ]
          },
          "metadata": {
            "tags": []
          },
          "execution_count": 40
        }
      ]
    },
    {
      "cell_type": "markdown",
      "metadata": {
        "id": "YWhO9m4mlAvg"
      },
      "source": [
        "When we convert an integer into a float, we don't really change the value (i.e., the significand) of the number. However, if we cast a float into an integer, we could potentially lose some information. For example, if we cast the float 1.1 to integer we will get 1 and lose the decimal information (i.e., 0.1):"
      ]
    },
    {
      "cell_type": "code",
      "metadata": {
        "id": "ghNEvJErk4Vu",
        "colab": {
          "base_uri": "https://localhost:8080/"
        },
        "outputId": "fbe101df-12d7-4a59-8662-6c6a3b37cf9b"
      },
      "source": [
        "# Example 2\n",
        "# Casting 1.1 to integer will result in loss of information\n",
        "#\n",
        "int(1.1) "
      ],
      "execution_count": null,
      "outputs": [
        {
          "output_type": "execute_result",
          "data": {
            "text/plain": [
              "1"
            ]
          },
          "metadata": {
            "tags": []
          },
          "execution_count": 41
        }
      ]
    },
    {
      "cell_type": "markdown",
      "metadata": {
        "id": "lgNykfkVlPAq"
      },
      "source": [
        "### 1.6b. Converting from strings to integers or floats\n"
      ]
    },
    {
      "cell_type": "markdown",
      "metadata": {
        "id": "rkSTFCOelV-y"
      },
      "source": [
        "Sometimes, we can have a string that contains a number within it. If this is the case, we can cast that string that represents a number into an integer using int():\n",
        "\n"
      ]
    },
    {
      "cell_type": "code",
      "metadata": {
        "id": "qK1OrMJYlSwk",
        "colab": {
          "base_uri": "https://localhost:8080/"
        },
        "outputId": "4ef09b37-3d9a-41ee-b87f-255657141397"
      },
      "source": [
        "# Example 1\n",
        "# Let's convert a string into an integer\n",
        "#\n",
        "int('1')"
      ],
      "execution_count": null,
      "outputs": [
        {
          "output_type": "execute_result",
          "data": {
            "text/plain": [
              "1"
            ]
          },
          "metadata": {
            "tags": []
          },
          "execution_count": 42
        }
      ]
    },
    {
      "cell_type": "code",
      "metadata": {
        "id": "9ixyl-vAljSG",
        "colab": {
          "base_uri": "https://localhost:8080/",
          "height": 195
        },
        "outputId": "079f9f10-b299-4093-97cf-be6e96e69853"
      },
      "source": [
        "# Example 2\n",
        "# But if we try to do so with a string that is not a perfect match for a number, we will get an error. \n",
        "# \n",
        "int('1 or 2 people')"
      ],
      "execution_count": null,
      "outputs": [
        {
          "output_type": "error",
          "ename": "ValueError",
          "evalue": "ignored",
          "traceback": [
            "\u001b[0;31m---------------------------------------------------------------------------\u001b[0m",
            "\u001b[0;31mValueError\u001b[0m                                Traceback (most recent call last)",
            "\u001b[0;32m<ipython-input-43-7d12e6129095>\u001b[0m in \u001b[0;36m<module>\u001b[0;34m()\u001b[0m\n\u001b[1;32m      2\u001b[0m \u001b[0;31m# But if we try to do so with a string that is not a perfect match for a number, we will get an error.\u001b[0m\u001b[0;34m\u001b[0m\u001b[0;34m\u001b[0m\u001b[0;34m\u001b[0m\u001b[0m\n\u001b[1;32m      3\u001b[0m \u001b[0;31m#\u001b[0m\u001b[0;34m\u001b[0m\u001b[0;34m\u001b[0m\u001b[0;34m\u001b[0m\u001b[0m\n\u001b[0;32m----> 4\u001b[0;31m \u001b[0mint\u001b[0m\u001b[0;34m(\u001b[0m\u001b[0;34m'1 or 2 people'\u001b[0m\u001b[0;34m)\u001b[0m\u001b[0;34m\u001b[0m\u001b[0;34m\u001b[0m\u001b[0m\n\u001b[0m",
            "\u001b[0;31mValueError\u001b[0m: invalid literal for int() with base 10: '1 or 2 people'"
          ]
        }
      ]
    },
    {
      "cell_type": "code",
      "metadata": {
        "id": "1hR-LBq-lvCw",
        "colab": {
          "base_uri": "https://localhost:8080/"
        },
        "outputId": "7b9fa193-21da-4977-a4f9-99920d87cdea"
      },
      "source": [
        "# Example 3\n",
        "# We can also convert strings containing floating point numbers into float objects:\n",
        "#\n",
        "float('1.2') "
      ],
      "execution_count": null,
      "outputs": [
        {
          "output_type": "execute_result",
          "data": {
            "text/plain": [
              "1.2"
            ]
          },
          "metadata": {
            "tags": []
          },
          "execution_count": 44
        }
      ]
    },
    {
      "cell_type": "markdown",
      "metadata": {
        "id": "-HTYwkHal6e7"
      },
      "source": [
        "### 1.6c. Converting numbers to strings\n"
      ]
    },
    {
      "cell_type": "markdown",
      "metadata": {
        "id": "gLlTlzYml8Fu"
      },
      "source": [
        "If we can convert strings to numbers, it is only natural to assume that we can convert numbers to strings, right?\n",
        "\n"
      ]
    },
    {
      "cell_type": "code",
      "metadata": {
        "id": "XjEcrrz-mByz",
        "colab": {
          "base_uri": "https://localhost:8080/",
          "height": 35
        },
        "outputId": "e0faeef6-9edb-4042-9f76-a2f0373fc1b8"
      },
      "source": [
        "# Example 1\n",
        "# Let's Convert an integer to a string\n",
        "#\n",
        "str(1)"
      ],
      "execution_count": null,
      "outputs": [
        {
          "output_type": "execute_result",
          "data": {
            "application/vnd.google.colaboratory.intrinsic+json": {
              "type": "string"
            },
            "text/plain": [
              "'1'"
            ]
          },
          "metadata": {
            "tags": []
          },
          "execution_count": 45
        }
      ]
    },
    {
      "cell_type": "markdown",
      "metadata": {
        "id": "KyVOjrcMr4wI"
      },
      "source": [
        "#### <font color=\"green\">1.6c Challenges</font>"
      ]
    },
    {
      "cell_type": "code",
      "metadata": {
        "id": "Rk4YzQRGmH87",
        "colab": {
          "base_uri": "https://localhost:8080/",
          "height": 35
        },
        "outputId": "7e348a1c-462f-42a1-94b5-0f8e97ac561e"
      },
      "source": [
        "# Challenge 1\n",
        "# And there is no reason why we shouldn't be able to make floats into strings as well:\n",
        "# Converting a float 1.2 to a string\n",
        "#\n",
        "str(1.2)"
      ],
      "execution_count": null,
      "outputs": [
        {
          "output_type": "execute_result",
          "data": {
            "application/vnd.google.colaboratory.intrinsic+json": {
              "type": "string"
            },
            "text/plain": [
              "'1.2'"
            ]
          },
          "metadata": {
            "tags": []
          },
          "execution_count": 46
        }
      ]
    },
    {
      "cell_type": "code",
      "metadata": {
        "id": "fnw2YsM8vswc",
        "colab": {
          "base_uri": "https://localhost:8080/",
          "height": 35
        },
        "outputId": "ab9cd949-d2a7-494e-c6af-094b37c6cb7b"
      },
      "source": [
        "# Challenge 2\n",
        "# How do you convert a digit 6/4 into a string?\n",
        "# \n",
        "str(6/4)"
      ],
      "execution_count": null,
      "outputs": [
        {
          "output_type": "execute_result",
          "data": {
            "application/vnd.google.colaboratory.intrinsic+json": {
              "type": "string"
            },
            "text/plain": [
              "'1.5'"
            ]
          },
          "metadata": {
            "tags": []
          },
          "execution_count": 47
        }
      ]
    },
    {
      "cell_type": "markdown",
      "metadata": {
        "id": "eib75N_EnVqp"
      },
      "source": [
        "### 1.6d. Boolean Casting\n",
        "We can cast boolean objects to other data types. If we cast a boolean with a value of True to an integer or float we will get a one. If we cast a boolean with a value of False to an integer or float we will get a zero. Similarly, if we cast a 1 to a Boolean, you get a True. And if we cast a 0 to a Boolean we will get a False. Let's give it a try:\n",
        "\n"
      ]
    },
    {
      "cell_type": "code",
      "metadata": {
        "id": "ggrd56z2rd5u",
        "colab": {
          "base_uri": "https://localhost:8080/"
        },
        "outputId": "f1884a6e-bb77-43a9-fdc1-b8a8eb2e41e1"
      },
      "source": [
        "# Example 1 \n",
        "# Let's cast 1 to a Boolean \n",
        "bool(1)"
      ],
      "execution_count": null,
      "outputs": [
        {
          "output_type": "execute_result",
          "data": {
            "text/plain": [
              "True"
            ]
          },
          "metadata": {
            "tags": []
          },
          "execution_count": 48
        }
      ]
    },
    {
      "cell_type": "markdown",
      "metadata": {
        "id": "1x6Hvs-jrru7"
      },
      "source": [
        "#### <font color=\"green\">1.6d Challenges</font>"
      ]
    },
    {
      "cell_type": "code",
      "metadata": {
        "id": "JjfxTMb1n_9z",
        "colab": {
          "base_uri": "https://localhost:8080/"
        },
        "outputId": "df0c999a-5460-4f2e-a13d-b49c4165a47b"
      },
      "source": [
        "# Challenge 1\n",
        "# Let's convert the value of True to an integer\n",
        "# \n",
        "int(bool(True))"
      ],
      "execution_count": null,
      "outputs": [
        {
          "output_type": "execute_result",
          "data": {
            "text/plain": [
              "1"
            ]
          },
          "metadata": {
            "tags": []
          },
          "execution_count": 50
        }
      ]
    },
    {
      "cell_type": "code",
      "metadata": {
        "id": "1x5bcRVfoNHW",
        "colab": {
          "base_uri": "https://localhost:8080/"
        },
        "outputId": "9fa2b5d6-c790-4cf6-cb38-6201036a4073"
      },
      "source": [
        "# Challenge 2\n",
        "# What happens when we cast a 0 to a Boolean?\n",
        "# \n",
        "bool(0)"
      ],
      "execution_count": null,
      "outputs": [
        {
          "output_type": "execute_result",
          "data": {
            "text/plain": [
              "False"
            ]
          },
          "metadata": {
            "tags": []
          },
          "execution_count": 51
        }
      ]
    },
    {
      "cell_type": "code",
      "metadata": {
        "id": "VrCxNoqXo03X",
        "colab": {
          "base_uri": "https://localhost:8080/"
        },
        "outputId": "f995595b-bd3f-44cb-9f53-b94cc4e38679"
      },
      "source": [
        "# Challenge 3 \n",
        "# Let's cast a boolean with a value of True to an integer\n",
        "# \n",
        "int(bool(True))"
      ],
      "execution_count": null,
      "outputs": [
        {
          "output_type": "execute_result",
          "data": {
            "text/plain": [
              "1"
            ]
          },
          "metadata": {
            "tags": []
          },
          "execution_count": 53
        }
      ]
    }
  ]
}